{
 "cells": [
  {
   "cell_type": "markdown",
   "id": "4db2b1d0",
   "metadata": {},
   "source": [
    "# Data Science Tools and Ecosystem\n",
    "\n",
    "In this notebook, Data Science Tools and Ecosystem are summarized."
   ]
  },
  {
   "cell_type": "markdown",
   "id": "f3026163",
   "metadata": {},
   "source": [
    "Popular languages that Data Scientists use are:\n",
    "1. Python\n",
    "2. R\n",
    "3. SQL\n",
    "1. Scala\n",
    "1. Java\n",
    "1. C++\n",
    "1. Julia\n"
   ]
  },
  {
   "cell_type": "markdown",
   "id": "a9247014",
   "metadata": {},
   "source": [
    "Commonly used libraries used by Data Scientists include:\n",
    "1. Matplotlib\n",
    "1. NumPy\n",
    "1. ggplot2\n",
    "1. TensorFlow"
   ]
  },
  {
   "cell_type": "markdown",
   "id": "ea32d706",
   "metadata": {},
   "source": [
    "|Data Science Tools|\n",
    "|---|\n",
    "|Jupyter Notebook|\n",
    "|RStudio|\n",
    "|Apache Zeppelin|\n",
    "|Spyder|\n",
    "\n"
   ]
  },
  {
   "cell_type": "markdown",
   "id": "b05098c2",
   "metadata": {},
   "source": [
    "### Below are a few examples of evaluating arithmetic expressions in Python"
   ]
  },
  {
   "cell_type": "code",
   "execution_count": 5,
   "id": "af79bb1d",
   "metadata": {},
   "outputs": [
    {
     "data": {
      "text/plain": [
       "17"
      ]
     },
     "execution_count": 5,
     "metadata": {},
     "output_type": "execute_result"
    }
   ],
   "source": [
    "#This a simple arithmetic expression to mutiply then add integers\n",
    "(3*4)+5"
   ]
  },
  {
   "cell_type": "code",
   "execution_count": 6,
   "id": "2c8210dd",
   "metadata": {},
   "outputs": [
    {
     "data": {
      "text/plain": [
       "3.3333333333333335"
      ]
     },
     "execution_count": 6,
     "metadata": {},
     "output_type": "execute_result"
    }
   ],
   "source": [
    "#This will convert 200 minutes to hours by diving by 60\n",
    "200/60"
   ]
  },
  {
   "cell_type": "markdown",
   "id": "e3ded24c",
   "metadata": {},
   "source": [
    "**Objectives:**\n",
    "* Popular data science languages\n",
    "* Popular data science tools\n",
    "* Common data science libraries\n"
   ]
  },
  {
   "cell_type": "markdown",
   "id": "1519e332",
   "metadata": {},
   "source": [
    "## Author\n",
    "Jackson Hemi."
   ]
  },
  {
   "cell_type": "code",
   "execution_count": null,
   "id": "bf7f0cfb",
   "metadata": {},
   "outputs": [],
   "source": []
  }
 ],
 "metadata": {
  "kernelspec": {
   "display_name": "Python 3 (ipykernel)",
   "language": "python",
   "name": "python3"
  },
  "language_info": {
   "codemirror_mode": {
    "name": "ipython",
    "version": 3
   },
   "file_extension": ".py",
   "mimetype": "text/x-python",
   "name": "python",
   "nbconvert_exporter": "python",
   "pygments_lexer": "ipython3",
   "version": "3.9.12"
  }
 },
 "nbformat": 4,
 "nbformat_minor": 5
}
